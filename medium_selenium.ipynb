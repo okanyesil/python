{
 "cells": [
  {
   "cell_type": "markdown",
   "id": "dietary-tampa",
   "metadata": {},
   "source": [
    "# Selenium İle bot yazmak"
   ]
  },
  {
   "cell_type": "code",
   "execution_count": 1,
   "id": "written-frame",
   "metadata": {},
   "outputs": [],
   "source": [
    "# !pip install selenium"
   ]
  },
  {
   "cell_type": "code",
   "execution_count": 2,
   "id": "binding-country",
   "metadata": {},
   "outputs": [],
   "source": [
    "from selenium import webdriver\n",
    "from selenium.webdriver.common.keys import Keys\n",
    "from time import sleep, strftime\n",
    "import urllib.request\n",
    "import datetime"
   ]
  },
  {
   "cell_type": "code",
   "execution_count": 3,
   "id": "composite-circular",
   "metadata": {
    "scrolled": true
   },
   "outputs": [],
   "source": [
    "chromedriver_path = '/home/okan/Desktop/chromedriver'\n",
    "webdriver = webdriver.Chrome(executable_path=chromedriver_path)\n",
    "webdriver.get('https://www.google.com.tr/')\n",
    "\n",
    "search_box = webdriver.find_element_by_css_selector('input.gLFyf.gsfi')\n",
    "\n",
    "search_box.send_keys('hasarlı araç foto')\n",
    "\n",
    "search_box.send_keys(Keys.ENTER)\n",
    "\n",
    "webdriver.find_element_by_xpath('//*[@id=\"hdtb-msb\"]/div[1]/div/div[3]/a').click()\n",
    "\n",
    "\n",
    "cars = webdriver.find_element_by_css_selector('div.islrc').find_elements_by_tag_name('div')\n",
    "\n",
    "for car in cars:\n",
    "    try:\n",
    "        image = car.find_element_by_tag_name('img').get_attribute('src')\n",
    "        urllib.request.urlretrieve(image, \"image/{}.jpg\".format(datetime.datetime.now()))\n",
    "        \n",
    "    except:\n",
    "        pass\n"
   ]
  },
  {
   "cell_type": "code",
   "execution_count": null,
   "id": "acting-fiber",
   "metadata": {},
   "outputs": [],
   "source": []
  },
  {
   "cell_type": "code",
   "execution_count": null,
   "id": "square-acrylic",
   "metadata": {},
   "outputs": [],
   "source": []
  },
  {
   "cell_type": "code",
   "execution_count": null,
   "id": "animated-surprise",
   "metadata": {},
   "outputs": [],
   "source": []
  }
 ],
 "metadata": {
  "kernelspec": {
   "display_name": "Python 3",
   "language": "python",
   "name": "python3"
  },
  "language_info": {
   "codemirror_mode": {
    "name": "ipython",
    "version": 3
   },
   "file_extension": ".py",
   "mimetype": "text/x-python",
   "name": "python",
   "nbconvert_exporter": "python",
   "pygments_lexer": "ipython3",
   "version": "3.8.8"
  }
 },
 "nbformat": 4,
 "nbformat_minor": 5
}
